{
  "nbformat": 4,
  "nbformat_minor": 0,
  "metadata": {
    "colab": {
      "provenance": [],
      "toc_visible": true,
      "authorship_tag": "ABX9TyOrHtbELXbWtOOwKqks1s3w",
      "include_colab_link": true
    },
    "kernelspec": {
      "name": "python3",
      "display_name": "Python 3"
    },
    "language_info": {
      "name": "python"
    }
  },
  "cells": [
    {
      "cell_type": "markdown",
      "metadata": {
        "id": "view-in-github",
        "colab_type": "text"
      },
      "source": [
        "<a href=\"https://colab.research.google.com/github/LuzAmartinez381/DiplomadoGADIA/blob/main/Clase1_Introduccion.ipynb\" target=\"_parent\"><img src=\"https://colab.research.google.com/assets/colab-badge.svg\" alt=\"Open In Colab\"/></a>"
      ]
    },
    {
      "cell_type": "markdown",
      "source": [
        "**INTRODUCCIÓN A PYTHON**\n",
        "\n",
        "DIPLOMADO Y GOBIERNO EN ANALITICA DE DATOS\n",
        "\n",
        "FUNDACION UNIVERSITARIA CAFAM\n",
        "\n",
        "DOCENTE: NICOLAS MOJICA GOMEZ\n",
        "\n",
        "ESTUDIANTE: LUZ ADRIANA MARTINEZ C\n",
        "\n",
        "\n",
        "\n",
        "---\n",
        "\n"
      ],
      "metadata": {
        "id": "ikCM_LzvqHl7"
      }
    },
    {
      "cell_type": "markdown",
      "source": [
        "## 1. Comentarios en los Codigos\n",
        "\n",
        "Para documentar codigos en Python existen diferentes formas de hacer comentarios este nos permite entender documentar nuestras secuencias de comandos para su analisis o posterior modificación."
      ],
      "metadata": {
        "id": "WbJBr61Brrps"
      }
    },
    {
      "cell_type": "code",
      "source": [
        "# Este comentario es de una sola linea\n",
        "#python es un programa sensible a las mayusculas y minusculas\n",
        "print(\"Hola mundo\")\n"
      ],
      "metadata": {
        "colab": {
          "base_uri": "https://localhost:8080/"
        },
        "id": "X5c_0vw9un9-",
        "outputId": "20a88a7f-04a6-4aa4-c9b1-54b230c2bb0a"
      },
      "execution_count": 1,
      "outputs": [
        {
          "output_type": "stream",
          "name": "stdout",
          "text": [
            "Hola mundo\n"
          ]
        }
      ]
    },
    {
      "cell_type": "code",
      "source": [
        "'''\n",
        "Este es un comentario de multiples lineas puede extenderse en varias lineas\n",
        "'''\n",
        "print(\"Hola mundo 2\")"
      ],
      "metadata": {
        "colab": {
          "base_uri": "https://localhost:8080/"
        },
        "id": "YEjUGn2xvqei",
        "outputId": "cbb27c96-2706-438c-cf4d-6dfa0d614cac"
      },
      "execution_count": 6,
      "outputs": [
        {
          "output_type": "stream",
          "name": "stdout",
          "text": [
            "Hola mundo 2\n"
          ]
        }
      ]
    },
    {
      "cell_type": "code",
      "execution_count": null,
      "metadata": {
        "id": "aEWkU_miouBU"
      },
      "outputs": [],
      "source": []
    },
    {
      "cell_type": "markdown",
      "source": [
        "##2. Variables\n",
        "\n",
        "Una variable es un elemento de un lenjuage de programación que tiene asignado un valor determinado"
      ],
      "metadata": {
        "id": "09qmBfKPwtPO"
      }
    },
    {
      "cell_type": "code",
      "source": [
        "## para crear una variable en python se le debe proporcionar un nombre y se le debe asignar un valor  usando un \"=\"\n",
        "var=\"Hola mundo\"\n",
        "print(var)"
      ],
      "metadata": {
        "colab": {
          "base_uri": "https://localhost:8080/"
        },
        "id": "8AV1Dmcdw1t6",
        "outputId": "00b7c927-2478-4ea7-df50-91bf6f334b06"
      },
      "execution_count": 4,
      "outputs": [
        {
          "output_type": "stream",
          "name": "stdout",
          "text": [
            "Hola mundo\n"
          ]
        }
      ]
    },
    {
      "cell_type": "code",
      "source": [
        "# las variables pueden cambiar durante del programa en python\n",
        "var=\"Adios mundo\"\n",
        "print(var)"
      ],
      "metadata": {
        "colab": {
          "base_uri": "https://localhost:8080/"
        },
        "id": "w8vxj23HxpZv",
        "outputId": "80ef8ffa-5de5-48cb-8b64-aa5bd994bb70"
      },
      "execution_count": 7,
      "outputs": [
        {
          "output_type": "stream",
          "name": "stdout",
          "text": [
            "Adios mundo\n"
          ]
        }
      ]
    },
    {
      "cell_type": "code",
      "source": [
        "# Las variables en python son sensibles a las mayusculas y a las minusculas\n"
      ],
      "metadata": {
        "id": "MwTU4uhxyFhW"
      },
      "execution_count": null,
      "outputs": []
    },
    {
      "cell_type": "markdown",
      "source": [
        "## Tipos de datos"
      ],
      "metadata": {
        "id": "ebkexurX5c8q"
      }
    },
    {
      "cell_type": "code",
      "source": [
        "#Tipos de datos numericos\n",
        "entero=42\n",
        "# en la mayor parte de lenguajes de programacion los enteros son representados con \"int\""
      ],
      "metadata": {
        "id": "YYyIhGwO5kp6"
      },
      "execution_count": null,
      "outputs": []
    },
    {
      "cell_type": "code",
      "source": [
        "# Tipo de datos flotante\n",
        "flotante=3.14151"
      ],
      "metadata": {
        "id": "vUFditjG6FQw"
      },
      "execution_count": 9,
      "outputs": []
    },
    {
      "cell_type": "code",
      "source": [
        "# Conversacion de los tipos de datos\n",
        "# Convertir un flotante a un numero entero\n",
        "entero=int(3.14)\n",
        "print(entero)"
      ],
      "metadata": {
        "colab": {
          "base_uri": "https://localhost:8080/"
        },
        "id": "ReGuRj0X6VfW",
        "outputId": "c7759a8c-c35f-47ff-a957-f81e4648db85"
      },
      "execution_count": 10,
      "outputs": [
        {
          "output_type": "stream",
          "name": "stdout",
          "text": [
            "3\n"
          ]
        }
      ]
    },
    {
      "cell_type": "code",
      "source": [
        "# Convertir entero a flotante\n",
        "flotante=float(5)\n",
        "print(flotante)"
      ],
      "metadata": {
        "colab": {
          "base_uri": "https://localhost:8080/"
        },
        "id": "hO4soBWq7BdG",
        "outputId": "70cd9858-14a0-4c3f-da52-ad539bb7fc14"
      },
      "execution_count": 12,
      "outputs": [
        {
          "output_type": "stream",
          "name": "stdout",
          "text": [
            "5.0\n"
          ]
        }
      ]
    },
    {
      "cell_type": "markdown",
      "source": [
        "## 4. Operadores aritmeticos\n",
        "\n",
        "Los operadores matematicos se utilizan para realizar operaciones comunes como la adiccion, la sustraccion, multiplicacion y mas"
      ],
      "metadata": {
        "id": "ZZ4BhG-G7lAt"
      }
    },
    {
      "cell_type": "code",
      "source": [
        "# suma\n",
        "a=10\n",
        "b=5\n",
        "print(a+b)\n"
      ],
      "metadata": {
        "colab": {
          "base_uri": "https://localhost:8080/"
        },
        "id": "aYZfk1x17-R-",
        "outputId": "b5e5c3d6-0e19-47f9-bb92-0e14eff22b93"
      },
      "execution_count": 13,
      "outputs": [
        {
          "output_type": "stream",
          "name": "stdout",
          "text": [
            "15\n"
          ]
        }
      ]
    },
    {
      "cell_type": "code",
      "source": [
        "# Resta\n",
        "c=a-b\n",
        "print(c)"
      ],
      "metadata": {
        "colab": {
          "base_uri": "https://localhost:8080/"
        },
        "id": "IPWt00hM8Oec",
        "outputId": "d6056a92-2ba0-48b2-bf7e-559cbeb343cf"
      },
      "execution_count": 14,
      "outputs": [
        {
          "output_type": "stream",
          "name": "stdout",
          "text": [
            "5\n"
          ]
        }
      ]
    },
    {
      "cell_type": "code",
      "source": [
        "#Multiplicacion\n",
        "d=a*b\n",
        "print(d)"
      ],
      "metadata": {
        "colab": {
          "base_uri": "https://localhost:8080/"
        },
        "id": "hj7QJvyh7Pwg",
        "outputId": "da89e5e3-046e-4316-a513-114323d4144f"
      },
      "execution_count": 15,
      "outputs": [
        {
          "output_type": "stream",
          "name": "stdout",
          "text": [
            "50\n"
          ]
        }
      ]
    },
    {
      "cell_type": "code",
      "source": [
        "# Division\n",
        "e=a/b\n",
        "print(e)"
      ],
      "metadata": {
        "colab": {
          "base_uri": "https://localhost:8080/"
        },
        "id": "QMNeeHQd8rWd",
        "outputId": "4f5cdd00-c7af-4fae-8233-5667cc0e621e"
      },
      "execution_count": 16,
      "outputs": [
        {
          "output_type": "stream",
          "name": "stdout",
          "text": [
            "2.0\n"
          ]
        }
      ]
    },
    {
      "cell_type": "code",
      "source": [
        "#division entera\n",
        "print(a//b)"
      ],
      "metadata": {
        "colab": {
          "base_uri": "https://localhost:8080/"
        },
        "id": "cahk3ZS5Ax1b",
        "outputId": "108d27d6-0abe-4238-c73d-f8b4a7e3774c"
      },
      "execution_count": 17,
      "outputs": [
        {
          "output_type": "stream",
          "name": "stdout",
          "text": [
            "2\n"
          ]
        }
      ]
    },
    {
      "cell_type": "code",
      "source": [
        "# Modulo, residuo de una operacion\n",
        "print(a%b)"
      ],
      "metadata": {
        "colab": {
          "base_uri": "https://localhost:8080/"
        },
        "id": "CXYdlhdCBDKV",
        "outputId": "bd9bca28-4908-48e2-c472-ee30a682fb18"
      },
      "execution_count": 18,
      "outputs": [
        {
          "output_type": "stream",
          "name": "stdout",
          "text": [
            "0\n"
          ]
        }
      ]
    },
    {
      "cell_type": "code",
      "source": [
        "# exponenciacion\n",
        "print(a**b)"
      ],
      "metadata": {
        "colab": {
          "base_uri": "https://localhost:8080/"
        },
        "id": "hDJh8IkVBbIu",
        "outputId": "204f7468-a618-4443-901e-22da74269b3e"
      },
      "execution_count": 19,
      "outputs": [
        {
          "output_type": "stream",
          "name": "stdout",
          "text": [
            "100000\n"
          ]
        }
      ]
    },
    {
      "cell_type": "code",
      "source": [
        "# asignacion compuesta\n",
        "a+=b\n",
        "print(a)"
      ],
      "metadata": {
        "colab": {
          "base_uri": "https://localhost:8080/"
        },
        "id": "HRPkWa0QBoMj",
        "outputId": "e7109224-cd13-47fb-a26b-50bab3acac05"
      },
      "execution_count": 20,
      "outputs": [
        {
          "output_type": "stream",
          "name": "stdout",
          "text": [
            "15\n"
          ]
        }
      ]
    },
    {
      "cell_type": "code",
      "source": [
        "print(a)"
      ],
      "metadata": {
        "colab": {
          "base_uri": "https://localhost:8080/"
        },
        "id": "GlvBbqFJB42j",
        "outputId": "9b866352-f2b2-4c1e-a788-a19906d26069"
      },
      "execution_count": 21,
      "outputs": [
        {
          "output_type": "stream",
          "name": "stdout",
          "text": [
            "15\n"
          ]
        }
      ]
    },
    {
      "cell_type": "code",
      "source": [
        "a-=b\n",
        "print(a)"
      ],
      "metadata": {
        "colab": {
          "base_uri": "https://localhost:8080/"
        },
        "id": "YkCZ1JADCX_t",
        "outputId": "2d80b3dc-94e3-4c46-e5d4-bd31be04facd"
      },
      "execution_count": 22,
      "outputs": [
        {
          "output_type": "stream",
          "name": "stdout",
          "text": [
            "10\n"
          ]
        }
      ]
    },
    {
      "cell_type": "code",
      "source": [
        "# Redondeo\n",
        "var4=3.1410\n",
        "print(round(var4,2))"
      ],
      "metadata": {
        "colab": {
          "base_uri": "https://localhost:8080/"
        },
        "id": "9-kj_h64CKhF",
        "outputId": "a7a56cf0-1554-4194-baf6-5658cabe3bac"
      },
      "execution_count": 23,
      "outputs": [
        {
          "output_type": "stream",
          "name": "stdout",
          "text": [
            "3.14\n"
          ]
        }
      ]
    },
    {
      "cell_type": "code",
      "source": [
        "# suma\n",
        "a=10\n",
        "b=3\n",
        "suma=a+b\n",
        "print(suma)\n",
        "\n"
      ],
      "metadata": {
        "colab": {
          "base_uri": "https://localhost:8080/"
        },
        "id": "-Ay88ta-DUB1",
        "outputId": "5c72b670-02f1-494d-8b84-5f5a10b414a9"
      },
      "execution_count": 26,
      "outputs": [
        {
          "output_type": "stream",
          "name": "stdout",
          "text": [
            "13\n"
          ]
        }
      ]
    },
    {
      "cell_type": "code",
      "source": [
        "# Resta\n",
        "a=10\n",
        "b=3\n",
        "resta=a-b\n",
        "print(resta)"
      ],
      "metadata": {
        "colab": {
          "base_uri": "https://localhost:8080/"
        },
        "id": "Zj-teuuBEiPK",
        "outputId": "8ef2922d-e081-4d85-878f-fb94f1b69e00"
      },
      "execution_count": 27,
      "outputs": [
        {
          "output_type": "stream",
          "name": "stdout",
          "text": [
            "7\n"
          ]
        }
      ]
    },
    {
      "cell_type": "code",
      "source": [
        "# Multiplicacion\n",
        "a=10\n",
        "b=3\n",
        "multiplicacion=a*b\n",
        "print(multiplicacion)"
      ],
      "metadata": {
        "colab": {
          "base_uri": "https://localhost:8080/"
        },
        "id": "t4nmkOpJHApI",
        "outputId": "50d91ac7-5b9e-4a89-9a5b-ea6c0d0c38aa"
      },
      "execution_count": 29,
      "outputs": [
        {
          "output_type": "stream",
          "name": "stdout",
          "text": [
            "30\n"
          ]
        }
      ]
    },
    {
      "cell_type": "code",
      "source": [
        "# Division\n",
        "a=10\n",
        "b=3\n",
        "division=a/b\n",
        "print(division)"
      ],
      "metadata": {
        "colab": {
          "base_uri": "https://localhost:8080/"
        },
        "id": "P4lhrzWbI1G6",
        "outputId": "f71a10c5-ef46-4519-d270-a2241116bfa8"
      },
      "execution_count": 30,
      "outputs": [
        {
          "output_type": "stream",
          "name": "stdout",
          "text": [
            "3.3333333333333335\n"
          ]
        }
      ]
    },
    {
      "cell_type": "code",
      "source": [
        "# Modulo\n",
        "a=10\n",
        "b=3\n",
        "modulo=a%b\n",
        "print(modulo)"
      ],
      "metadata": {
        "colab": {
          "base_uri": "https://localhost:8080/"
        },
        "id": "rVskTvb3JHVO",
        "outputId": "02e6865d-cfa7-4117-f775-d46dffbd5359"
      },
      "execution_count": 31,
      "outputs": [
        {
          "output_type": "stream",
          "name": "stdout",
          "text": [
            "1\n"
          ]
        }
      ]
    },
    {
      "cell_type": "code",
      "source": [
        "# exponenciacion\n",
        "a=10\n",
        "b=3\n",
        "exponenciacion=a**b\n",
        "print(exponenciacion)"
      ],
      "metadata": {
        "colab": {
          "base_uri": "https://localhost:8080/"
        },
        "id": "0LarBm51JyQp",
        "outputId": "31c56018-49f9-4479-903b-f376d9e49377"
      },
      "execution_count": 32,
      "outputs": [
        {
          "output_type": "stream",
          "name": "stdout",
          "text": [
            "1000\n"
          ]
        }
      ]
    },
    {
      "cell_type": "code",
      "source": [
        "# Division Entera\n",
        "a=10\n",
        "b=3\n",
        "print(a//b)"
      ],
      "metadata": {
        "colab": {
          "base_uri": "https://localhost:8080/"
        },
        "id": "FtBLaNSCKRcx",
        "outputId": "539c565d-10ef-470e-d774-988564854ce9"
      },
      "execution_count": 33,
      "outputs": [
        {
          "output_type": "stream",
          "name": "stdout",
          "text": [
            "3\n"
          ]
        }
      ]
    },
    {
      "cell_type": "code",
      "source": [],
      "metadata": {
        "id": "hA9sZk9CMbvV"
      },
      "execution_count": null,
      "outputs": []
    }
  ]
}