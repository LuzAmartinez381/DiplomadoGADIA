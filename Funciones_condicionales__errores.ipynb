{
  "nbformat": 4,
  "nbformat_minor": 0,
  "metadata": {
    "colab": {
      "provenance": [],
      "authorship_tag": "ABX9TyPtVQIScXQRh6Bjxprj1aWe",
      "include_colab_link": true
    },
    "kernelspec": {
      "name": "python3",
      "display_name": "Python 3"
    },
    "language_info": {
      "name": "python"
    }
  },
  "cells": [
    {
      "cell_type": "markdown",
      "metadata": {
        "id": "view-in-github",
        "colab_type": "text"
      },
      "source": [
        "<a href=\"https://colab.research.google.com/github/LuzAmartinez381/DiplomadoGADIA/blob/main/Funciones_condicionales__errores.ipynb\" target=\"_parent\"><img src=\"https://colab.research.google.com/assets/colab-badge.svg\" alt=\"Open In Colab\"/></a>"
      ]
    },
    {
      "cell_type": "markdown",
      "source": [
        "**CONDICIONALES, FUNCIONES Y MANEJO DE ERRORES**\n",
        "\n",
        "DIPLOMADO Y GOBIERNO EN ANALITICA DE DATOS\n",
        "\n",
        "FUNDACION UNIVERSITARIA CAFAM\n",
        "\n",
        "DOCENTE: NICOLAS MOJICA GOMEZ\n",
        "\n",
        "ESTUDIANTE: LUZ ADRIANA MARTINEZ C"
      ],
      "metadata": {
        "id": "DSVsSfqObHrE"
      }
    },
    {
      "cell_type": "code",
      "execution_count": 1,
      "metadata": {
        "colab": {
          "base_uri": "https://localhost:8080/"
        },
        "id": "oaUzMjk9bAzY",
        "outputId": "d9db2bf6-b833-4103-d855-e68a989b9b89"
      },
      "outputs": [
        {
          "output_type": "stream",
          "name": "stdout",
          "text": [
            "eres mayor de edad\n"
          ]
        }
      ],
      "source": [
        "##las condicionales en python permiten permiten tomar decisiones en el codigo basadas enn ciertas condicione, son fundamentales para controlar el flujo de ejecición\n",
        "edad=18\n",
        "#crear una condicional que indique si la persona es mayor o menor de edad\n",
        "if edad <18 :\n",
        "  print(\"eres menor de edad\")\n",
        "else :\n",
        "  print(\"eres mayor de edad\")"
      ]
    },
    {
      "cell_type": "code",
      "source": [
        "#generar un programa que clasifique la edad introducida por el usuario entre mayor y menor de edad\n",
        "edad=int(input(\"por favor ingresa tu edad\"))\n",
        "if edad <18 :\n",
        "  print(\"eres menor de edad\")\n",
        "else :\n",
        "  print(\"eres mayor de edad\")"
      ],
      "metadata": {
        "colab": {
          "base_uri": "https://localhost:8080/"
        },
        "id": "RA7D4h3vcsXe",
        "outputId": "8a3b571a-835b-4325-d165-b729e0ba063b"
      },
      "execution_count": 3,
      "outputs": [
        {
          "output_type": "stream",
          "name": "stdout",
          "text": [
            "por favor ingresa tu edad 25\n",
            "eres mayor de edad\n"
          ]
        }
      ]
    },
    {
      "cell_type": "code",
      "source": [
        "#construya un programa que al inngresar la nnota del usuario lo clasifique en:\n",
        "#No aprobado <60, >= 90 clasificación A, >80=80 clasificación B, Otros clasificación C\n",
        "nota=int(input(\"Ingrese la nota\"))\n",
        "if nota>=60:\n",
        "  if nota>=90:\n",
        "    print(\"clasificacion A\")\n",
        "  elif nota>=80:\n",
        "    print(\"clasificacion B\")\n",
        "  else:\n",
        "    print(\"clasificacion C\")\n",
        "else:\n",
        "  print(\"No aprobados\")\n"
      ],
      "metadata": {
        "colab": {
          "base_uri": "https://localhost:8080/"
        },
        "id": "glan6AGhdgrX",
        "outputId": "8bfe61b7-5428-4287-c52f-47c243c26223"
      },
      "execution_count": 11,
      "outputs": [
        {
          "output_type": "stream",
          "name": "stdout",
          "text": [
            "Ingrese la nota 85\n",
            "clasificacion B\n"
          ]
        }
      ]
    },
    {
      "cell_type": "code",
      "source": [
        "\"\"\"\n",
        "Comparaciones\n",
        "Las condiciones en las sentencias condicionales suelen involucrar operadores de comparación:\n",
        "\n",
        "- == (igual a)\n",
        "- != (diferente de)\n",
        "- > (mayor que)\n",
        "- < (menor que)\n",
        "- >= (mayor o igual que)\n",
        "- <= (menor o igual que)\n",
        "\"\"\"\n"
      ],
      "metadata": {
        "colab": {
          "base_uri": "https://localhost:8080/",
          "height": 53
        },
        "id": "9a9y_7wahLtX",
        "outputId": "4029be1f-7f4d-40ac-a42a-f85beb8c9ba4"
      },
      "execution_count": 12,
      "outputs": [
        {
          "output_type": "execute_result",
          "data": {
            "text/plain": [
              "'\\nComparaciones\\nLas condiciones en las sentencias condicionales suelen involucrar operadores de comparación:\\n \\n- == (igual a)\\n- != (diferente de)\\n- > (mayor que)\\n- < (menor que)\\n- >= (mayor o igual que)\\n- <= (menor o igual que)\\n'"
            ],
            "application/vnd.google.colaboratory.intrinsic+json": {
              "type": "string"
            }
          },
          "metadata": {},
          "execution_count": 12
        }
      ]
    },
    {
      "cell_type": "code",
      "source": [
        "#Escribe un programa que verifique si un número ingresado por el usuario es par o impar.\n",
        "numero = int(input(\"Ingresa un número: \"))\n",
        "\n",
        "# Verificar si el número es par o impar\n",
        "if numero % 2 == 0:\n",
        "    print(f\"El número {numero} es par.\")\n",
        "else:\n",
        "    print(f\"El número {numero} es impar.\")\n"
      ],
      "metadata": {
        "colab": {
          "base_uri": "https://localhost:8080/"
        },
        "id": "SsdvVJmPiqqk",
        "outputId": "4d894262-9ea2-4982-f293-4202be634efc"
      },
      "execution_count": 14,
      "outputs": [
        {
          "output_type": "stream",
          "name": "stdout",
          "text": [
            "Ingresa un número: 9\n",
            "El número 9 es impar.\n"
          ]
        }
      ]
    },
    {
      "cell_type": "code",
      "source": [
        "#Crea un programa que lea dos números y determine cuál es mayor, cuál es menor o si ambos son iguales.\n",
        "num1 = float(input(\"Ingresa el primer numero: \"))\n",
        "num2 = float(input(\"Ingresa el segundo numero: \"))\n",
        "if num1 > num2:\n",
        "    print(f\"El número {num1} es mayor que {num2}.\")\n",
        "elif num1 < num2:\n",
        "    print(f\"El número {num1} es menor que {num2}.\")\n",
        "else:\n",
        "    print(f\"Los números {num1} y {num2} son iguales.\")"
      ],
      "metadata": {
        "colab": {
          "base_uri": "https://localhost:8080/"
        },
        "id": "ODa0OfiSj1Zw",
        "outputId": "f519f978-0632-4ed9-dd6f-73dc0b9cb91e"
      },
      "execution_count": 26,
      "outputs": [
        {
          "output_type": "stream",
          "name": "stdout",
          "text": [
            "Ingresa el primer numero: 20\n",
            "Ingresa el segundo numero: 35\n",
            "El número 20.0 es menor que 35.0.\n"
          ]
        }
      ]
    },
    {
      "cell_type": "code",
      "source": [
        "#Crea un programa que lea dos números y determine cuál es mayor, cuál es menor o si ambos son iguales.\n",
        "num1 = int(input(\"-> Ingrese el primer número: \"))\n",
        "num2 = int(input(\"-> Ingrese el segundo número: \"))\n",
        "\n",
        "if num1 != num2:\n",
        "\n",
        "  if num1 > num2:\n",
        "    print(f\"// El número mayor es: {num1}\")\n",
        "  else:\n",
        "    print(f\"// El número mayor es: {num2} \")\n",
        "\n",
        "else:\n",
        "  print(f\"// Ambos números ingresados son el mismo: {num1}.\")"
      ],
      "metadata": {
        "colab": {
          "base_uri": "https://localhost:8080/"
        },
        "id": "ogD72EIhjqRc",
        "outputId": "3e72eda7-505f-4cc3-ccda-8fd513edf786"
      },
      "execution_count": 25,
      "outputs": [
        {
          "output_type": "stream",
          "name": "stdout",
          "text": [
            "-> Ingrese el primer número: 30\n",
            "-> Ingrese el segundo número: 40\n",
            "// El número mayor es: 40 \n"
          ]
        }
      ]
    },
    {
      "cell_type": "code",
      "source": [
        "#Escribe un programa que clasifique la edad en diferentes categorías:\n",
        "#Niño (0-12 años), Adolescente (13-17 años), Adulto (18-64 años) y Anciano (65 años o más).\n",
        "edad = int(input(\"Ingresa tu edad: \"))\n",
        "# edad en diferentes categorías\n",
        "if edad >= 0 and edad <= 12:\n",
        "    print(\"eres un niño.\")\n",
        "elif edad >= 13 and edad <= 17:\n",
        "    print(\"eres un adolescente.\")\n",
        "elif edad >= 18 and edad <= 64:\n",
        "    print(\"eres un adulto.\")\n",
        "elif edad >= 65:\n",
        "    print(\"eres un anciano.\")\n",
        "else:\n",
        "    print(\"edad no valida.\")"
      ],
      "metadata": {
        "colab": {
          "base_uri": "https://localhost:8080/"
        },
        "id": "WTCFvu8uqF21",
        "outputId": "0960bdf5-64ab-4d73-edbf-37085d558df8"
      },
      "execution_count": 27,
      "outputs": [
        {
          "output_type": "stream",
          "name": "stdout",
          "text": [
            "Ingresa tu edad: 56\n",
            "eres un adulto.\n"
          ]
        }
      ]
    },
    {
      "cell_type": "code",
      "source": [],
      "metadata": {
        "id": "_SPa6iVPqvjT"
      },
      "execution_count": null,
      "outputs": []
    }
  ]
}