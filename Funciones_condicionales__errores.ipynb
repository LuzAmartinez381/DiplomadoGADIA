{
  "nbformat": 4,
  "nbformat_minor": 0,
  "metadata": {
    "colab": {
      "provenance": [],
      "toc_visible": true,
      "authorship_tag": "ABX9TyNNQV3F7CNafDO8fiQVXwiq",
      "include_colab_link": true
    },
    "kernelspec": {
      "name": "python3",
      "display_name": "Python 3"
    },
    "language_info": {
      "name": "python"
    }
  },
  "cells": [
    {
      "cell_type": "markdown",
      "metadata": {
        "id": "view-in-github",
        "colab_type": "text"
      },
      "source": [
        "<a href=\"https://colab.research.google.com/github/LuzAmartinez381/DiplomadoGADIA/blob/main/Funciones_condicionales__errores.ipynb\" target=\"_parent\"><img src=\"https://colab.research.google.com/assets/colab-badge.svg\" alt=\"Open In Colab\"/></a>"
      ]
    },
    {
      "cell_type": "markdown",
      "source": [
        "**CONDICIONALES, FUNCIONES Y MANEJO DE ERRORES**\n",
        "\n",
        "DIPLOMADO Y GOBIERNO EN ANALITICA DE DATOS\n",
        "\n",
        "FUNDACION UNIVERSITARIA CAFAM\n",
        "\n",
        "DOCENTE: NICOLAS MOJICA GOMEZ\n",
        "\n",
        "ESTUDIANTE: LUZ ADRIANA MARTINEZ C"
      ],
      "metadata": {
        "id": "DSVsSfqObHrE"
      }
    },
    {
      "cell_type": "markdown",
      "source": [
        "## 1. Condicionales\n"
      ],
      "metadata": {
        "id": "I72XBRFStHks"
      }
    },
    {
      "cell_type": "code",
      "execution_count": null,
      "metadata": {
        "colab": {
          "base_uri": "https://localhost:8080/"
        },
        "id": "oaUzMjk9bAzY",
        "outputId": "d9db2bf6-b833-4103-d855-e68a989b9b89"
      },
      "outputs": [
        {
          "output_type": "stream",
          "name": "stdout",
          "text": [
            "eres mayor de edad\n"
          ]
        }
      ],
      "source": [
        "##las condicionales en python permiten permiten tomar decisiones en el codigo basadas enn ciertas condicione, son fundamentales para controlar el flujo de ejecición\n",
        "edad=18\n",
        "#crear una condicional que indique si la persona es mayor o menor de edad\n",
        "if edad <18 :\n",
        "  print(\"eres menor de edad\")\n",
        "else :\n",
        "  print(\"eres mayor de edad\")"
      ]
    },
    {
      "cell_type": "code",
      "source": [
        "#generar un programa que clasifique la edad introducida por el usuario entre mayor y menor de edad\n",
        "edad=int(input(\"por favor ingresa tu edad\"))\n",
        "if edad <18 :\n",
        "  print(\"eres menor de edad\")\n",
        "else :\n",
        "  print(\"eres mayor de edad\")"
      ],
      "metadata": {
        "colab": {
          "base_uri": "https://localhost:8080/"
        },
        "id": "RA7D4h3vcsXe",
        "outputId": "8a3b571a-835b-4325-d165-b729e0ba063b"
      },
      "execution_count": null,
      "outputs": [
        {
          "output_type": "stream",
          "name": "stdout",
          "text": [
            "por favor ingresa tu edad 25\n",
            "eres mayor de edad\n"
          ]
        }
      ]
    },
    {
      "cell_type": "code",
      "source": [
        "#construya un programa que al inngresar la nnota del usuario lo clasifique en:\n",
        "#No aprobado <60, >= 90 clasificación A, >80=80 clasificación B, Otros clasificación C\n",
        "nota=int(input(\"Ingrese la nota\"))\n",
        "if nota>=60:\n",
        "  if nota>=90:\n",
        "    print(\"clasificacion A\")\n",
        "  elif nota>=80:\n",
        "    print(\"clasificacion B\")\n",
        "  else:\n",
        "    print(\"clasificacion C\")\n",
        "else:\n",
        "  print(\"No aprobados\")\n"
      ],
      "metadata": {
        "colab": {
          "base_uri": "https://localhost:8080/"
        },
        "id": "glan6AGhdgrX",
        "outputId": "8bfe61b7-5428-4287-c52f-47c243c26223"
      },
      "execution_count": null,
      "outputs": [
        {
          "output_type": "stream",
          "name": "stdout",
          "text": [
            "Ingrese la nota 85\n",
            "clasificacion B\n"
          ]
        }
      ]
    },
    {
      "cell_type": "code",
      "source": [
        "\"\"\"\n",
        "Comparaciones\n",
        "Las condiciones en las sentencias condicionales suelen involucrar operadores de comparación:\n",
        "\n",
        "- == (igual a)\n",
        "- != (diferente de)\n",
        "- > (mayor que)\n",
        "- < (menor que)\n",
        "- >= (mayor o igual que)\n",
        "- <= (menor o igual que)\n",
        "\"\"\"\n"
      ],
      "metadata": {
        "colab": {
          "base_uri": "https://localhost:8080/",
          "height": 53
        },
        "id": "9a9y_7wahLtX",
        "outputId": "4029be1f-7f4d-40ac-a42a-f85beb8c9ba4"
      },
      "execution_count": null,
      "outputs": [
        {
          "output_type": "execute_result",
          "data": {
            "text/plain": [
              "'\\nComparaciones\\nLas condiciones en las sentencias condicionales suelen involucrar operadores de comparación:\\n \\n- == (igual a)\\n- != (diferente de)\\n- > (mayor que)\\n- < (menor que)\\n- >= (mayor o igual que)\\n- <= (menor o igual que)\\n'"
            ],
            "application/vnd.google.colaboratory.intrinsic+json": {
              "type": "string"
            }
          },
          "metadata": {},
          "execution_count": 12
        }
      ]
    },
    {
      "cell_type": "code",
      "source": [
        "#Escribe un programa que verifique si un número ingresado por el usuario es par o impar.\n",
        "numero = int(input(\"Ingresa un número: \"))\n",
        "\n",
        "# Verificar si el número es par o impar\n",
        "if numero % 2 == 0:\n",
        "    print(f\"El número {numero} es par.\")\n",
        "else:\n",
        "    print(f\"El número {numero} es impar.\")\n"
      ],
      "metadata": {
        "colab": {
          "base_uri": "https://localhost:8080/"
        },
        "id": "SsdvVJmPiqqk",
        "outputId": "4d894262-9ea2-4982-f293-4202be634efc"
      },
      "execution_count": null,
      "outputs": [
        {
          "output_type": "stream",
          "name": "stdout",
          "text": [
            "Ingresa un número: 9\n",
            "El número 9 es impar.\n"
          ]
        }
      ]
    },
    {
      "cell_type": "code",
      "source": [
        "#Crea un programa que lea dos números y determine cuál es mayor, cuál es menor o si ambos son iguales.\n",
        "num1 = float(input(\"Ingresa el primer numero: \"))\n",
        "num2 = float(input(\"Ingresa el segundo numero: \"))\n",
        "if num1 > num2:\n",
        "    print(f\"El número {num1} es mayor que {num2}.\")\n",
        "elif num1 < num2:\n",
        "    print(f\"El número {num1} es menor que {num2}.\")\n",
        "else:\n",
        "    print(f\"Los números {num1} y {num2} son iguales.\")"
      ],
      "metadata": {
        "colab": {
          "base_uri": "https://localhost:8080/"
        },
        "id": "ODa0OfiSj1Zw",
        "outputId": "f519f978-0632-4ed9-dd6f-73dc0b9cb91e"
      },
      "execution_count": null,
      "outputs": [
        {
          "output_type": "stream",
          "name": "stdout",
          "text": [
            "Ingresa el primer numero: 20\n",
            "Ingresa el segundo numero: 35\n",
            "El número 20.0 es menor que 35.0.\n"
          ]
        }
      ]
    },
    {
      "cell_type": "code",
      "source": [
        "#Crea un programa que lea dos números y determine cuál es mayor, cuál es menor o si ambos son iguales.\n",
        "num1 = int(input(\"-> Ingrese el primer número: \"))\n",
        "num2 = int(input(\"-> Ingrese el segundo número: \"))\n",
        "\n",
        "if num1 != num2:\n",
        "\n",
        "  if num1 > num2:\n",
        "    print(f\"// El número mayor es: {num1}\")\n",
        "  else:\n",
        "    print(f\"// El número mayor es: {num2} \")\n",
        "\n",
        "else:\n",
        "  print(f\"// Ambos números ingresados son el mismo: {num1}.\")"
      ],
      "metadata": {
        "colab": {
          "base_uri": "https://localhost:8080/"
        },
        "id": "ogD72EIhjqRc",
        "outputId": "3e72eda7-505f-4cc3-ccda-8fd513edf786"
      },
      "execution_count": null,
      "outputs": [
        {
          "output_type": "stream",
          "name": "stdout",
          "text": [
            "-> Ingrese el primer número: 30\n",
            "-> Ingrese el segundo número: 40\n",
            "// El número mayor es: 40 \n"
          ]
        }
      ]
    },
    {
      "cell_type": "code",
      "source": [
        "#Escribe un programa que clasifique la edad en diferentes categorías:\n",
        "#Niño (0-12 años), Adolescente (13-17 años), Adulto (18-64 años) y Anciano (65 años o más).\n",
        "edad = int(input(\"Ingresa tu edad: \"))\n",
        "# edad en diferentes categorías\n",
        "if edad >= 0 and edad <= 12:\n",
        "    print(\"eres un niño\")\n",
        "elif edad >= 13 and edad <= 17:\n",
        "    print(\"eres un adolescente\")\n",
        "elif edad >= 18 and edad <= 64:\n",
        "    print(\"eres un adulto\")\n",
        "elif edad >= 65:\n",
        "    print(\"eres un anciano\")\n"
      ],
      "metadata": {
        "colab": {
          "base_uri": "https://localhost:8080/"
        },
        "id": "WTCFvu8uqF21",
        "outputId": "6f3716d0-23ea-403d-ebe3-49bb4801d7c5"
      },
      "execution_count": null,
      "outputs": [
        {
          "output_type": "stream",
          "name": "stdout",
          "text": [
            "Ingresa tu edad: 54\n",
            "eres un adulto\n"
          ]
        }
      ]
    },
    {
      "cell_type": "markdown",
      "source": [
        "## 2. Funciones\n",
        "\n",
        "bloques de codigos en python que se pueden reutilizar para ejecutar una tarea en especifico\n"
      ],
      "metadata": {
        "id": "jMv4ANs_tB1B"
      }
    },
    {
      "cell_type": "code",
      "source": [
        "# Tengo la función lineal y = mx+b\n",
        "#deseo evaluar el valor de x = 5 en la funcion y= 4x+7\n",
        "def funcion_lineal (x):\n",
        "    variable=x\n",
        "    y=(4*variable)+7\n",
        "    z=print(f\"El valor de y es :{y}\")\n",
        "    return z\n",
        "funcion_lineal(5)\n"
      ],
      "metadata": {
        "colab": {
          "base_uri": "https://localhost:8080/"
        },
        "id": "_SPa6iVPqvjT",
        "outputId": "442c591b-a7c2-4848-ab94-07f163ecca97"
      },
      "execution_count": null,
      "outputs": [
        {
          "output_type": "stream",
          "name": "stdout",
          "text": [
            "El valor de y es :27\n"
          ]
        }
      ]
    },
    {
      "cell_type": "code",
      "source": [
        "def suma(a,b) :\n",
        "  return a+b\n",
        "print(suma(2,2))"
      ],
      "metadata": {
        "colab": {
          "base_uri": "https://localhost:8080/"
        },
        "id": "A6uItI3AvVVu",
        "outputId": "ee019820-b85f-441e-9b84-4606998cd7f7"
      },
      "execution_count": null,
      "outputs": [
        {
          "output_type": "stream",
          "name": "stdout",
          "text": [
            "4\n"
          ]
        }
      ]
    },
    {
      "cell_type": "code",
      "source": [
        "#Escribe una función que reciba la edad de una persona como parámetro y determine si la persona es mayor de edad (18 años o más) o menor de edad.\n",
        "\n",
        "def determinar_edad(edad):\n",
        "    if edad >= 18:\n",
        "        return \"es mayor de edad.\"\n",
        "    else:\n",
        "        return \"es menor de edad.\"\n",
        "edad_usuario = int(input(\"ingresa tu edad:\"))\n",
        "resultado = determinar_edad(edad_usuario)\n",
        "print(resultado)"
      ],
      "metadata": {
        "colab": {
          "base_uri": "https://localhost:8080/"
        },
        "id": "uSGsaFcezn1J",
        "outputId": "83a36fb9-ac90-4cf8-d00e-96a22f91d20f"
      },
      "execution_count": null,
      "outputs": [
        {
          "output_type": "stream",
          "name": "stdout",
          "text": [
            "ingresa tu edad:12\n",
            "es menor de edad.\n"
          ]
        }
      ]
    },
    {
      "cell_type": "code",
      "source": [
        "def determinar_edad(edad):\n",
        "    if edad >= 18:\n",
        "        print(\"es mayor de edad.\")\n",
        "    else:\n",
        "        print (\"es menor de edad.\")\n",
        "edad_persona= int(input(\"ingresa tu edad:\"))\n",
        "resultado = determinar_edad(edad_persona)\n",
        "edad_persona"
      ],
      "metadata": {
        "colab": {
          "base_uri": "https://localhost:8080/"
        },
        "id": "v_uSNAFU0EsV",
        "outputId": "df5991e1-a78c-4fd5-d15f-589f80571811"
      },
      "execution_count": null,
      "outputs": [
        {
          "output_type": "stream",
          "name": "stdout",
          "text": [
            "ingresa tu edad:34\n",
            "es mayor de edad.\n"
          ]
        },
        {
          "output_type": "execute_result",
          "data": {
            "text/plain": [
              "34"
            ]
          },
          "metadata": {},
          "execution_count": 48
        }
      ]
    },
    {
      "cell_type": "code",
      "source": [
        "#der nos permite definir un nombre de una funcion\n",
        "#posterior al def dentro de los parentesis colocamos las variables o los parametros de la funcion\n",
        "#finalizamos con : para empezar a declarar el calculo con las variables solicitadas\n",
        "#Defina una funcion que al ingresar su nombre lo salude\n",
        "def saludar(nombre):\n",
        "    print(\"Hola \" + nombre)\n",
        "\n",
        "saludar(input(\"Ingrese su nombre: \"))"
      ],
      "metadata": {
        "id": "YigO6xtV0vzj",
        "colab": {
          "base_uri": "https://localhost:8080/"
        },
        "outputId": "b3e58813-f377-479f-a18c-cb4e789fcbf6"
      },
      "execution_count": 3,
      "outputs": [
        {
          "output_type": "stream",
          "name": "stdout",
          "text": [
            "Ingrese su nombre: luz\n",
            "Hola luz\n"
          ]
        }
      ]
    },
    {
      "cell_type": "code",
      "source": [
        "# Defina una funcion que al ingresar su nombre lo salude y determine si ud es mayor o menor de edad\n",
        "def saludo():\n",
        "  nombre = input(\"-> Ingrese su nombre: \")\n",
        "  edad = int(input(\"-> Ingrese su edad: \"))\n",
        "  TipoEdad = \"\"\n",
        "\n",
        "  if edad >= 0:\n",
        "\n",
        "    if edad<18:\n",
        "      TipoEdad = \"Menor\"\n",
        "    else:\n",
        "      TipoEdad = \"Mayor\"\n",
        "\n",
        "  else:\n",
        "    print(\"// La edad no puede ser mayor a 0. \")\n",
        "    TipoEdad = \"[Edad ingresada inválida]\"\n",
        "\n",
        "  return f\"Hola, {nombre}! Usted es {TipoEdad} de edad.\"\n",
        "\n",
        "print(saludo())"
      ],
      "metadata": {
        "colab": {
          "base_uri": "https://localhost:8080/"
        },
        "id": "pgX6mmfsPCvC",
        "outputId": "7eb57ed8-e52f-4741-e719-53f8100ecd13"
      },
      "execution_count": 8,
      "outputs": [
        {
          "output_type": "stream",
          "name": "stdout",
          "text": [
            "-> Ingrese su nombre: luz\n",
            "-> Ingrese su edad: 27\n",
            "Hola, luz! Usted es Mayor de edad.\n"
          ]
        }
      ]
    },
    {
      "cell_type": "code",
      "source": [
        "def saludo_edad(nombre,edad):\n",
        "\n",
        "    if edad >= 0:\n",
        "      if edad<18:\n",
        "        print(f\"Hola {nombre}, eres menor de edad\")\n",
        "      else:\n",
        "        print(f\"Hola {nombre}, eres mayor de edad\")\n",
        "    else:\n",
        "      print(\"La edad ingresada no es valida\")\n",
        "\n",
        "saludo_edad(str(input(\"Ingrese su nombre \")),int(input(\"Ingrese su edad: \")))"
      ],
      "metadata": {
        "colab": {
          "base_uri": "https://localhost:8080/"
        },
        "id": "fAh5z8t9Qb5X",
        "outputId": "10f9fda7-dd49-4b2e-a132-3f4bb65f130b"
      },
      "execution_count": 16,
      "outputs": [
        {
          "output_type": "stream",
          "name": "stdout",
          "text": [
            "Ingrese su nombre luz\n",
            "Ingrese su edad: 27\n",
            "Hola luz, eres mayor de edad\n"
          ]
        }
      ]
    },
    {
      "cell_type": "code",
      "source": [
        "#Escribe una función que tome una contraseña y la verifique contra una contraseña predeterminada (\"secreta123\").\n",
        "# La función debe devolver si la contraseña es correcta o incorrecta.\n",
        "\n",
        "def verificar_contraseña(contraseña):\n",
        "    contraseña_asignada = \"secreta123\"\n",
        "    if contraseña == contraseña_asignada:\n",
        "        return \"Contraseña correcta.\"\n",
        "    else:\n",
        "        return \"Contraseña incorrecta.\"\n",
        "\n",
        "contraseña = input(\"Ingresa la contraseña: \")\n",
        "print(verificar_contraseña(contraseña))"
      ],
      "metadata": {
        "colab": {
          "base_uri": "https://localhost:8080/"
        },
        "id": "JldEI6jwTh8W",
        "outputId": "0195f255-4334-4319-ceba-65e19e7bc67f"
      },
      "execution_count": 27,
      "outputs": [
        {
          "output_type": "stream",
          "name": "stdout",
          "text": [
            "Ingresa la contraseña: 1234\n",
            "Contraseña incorrecta.\n"
          ]
        }
      ]
    },
    {
      "cell_type": "code",
      "source": [],
      "metadata": {
        "id": "szB1LBlsUTQ1"
      },
      "execution_count": null,
      "outputs": []
    }
  ]
}